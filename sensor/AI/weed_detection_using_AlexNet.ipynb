{
 "cells": [
  {
   "cell_type": "code",
   "execution_count": null,
   "metadata": {},
   "outputs": [],
   "source": [
    "import pandas as pd\n",
    "import numpy as np\n",
    "\n",
    "from sklearn.model_selection import train_test_split\n",
    "\n",
    "import tensorflow as tf\n",
    "import tensorflow_datasets as tfds\n",
    "from tensorflow.keras.utils import to_categorical\n",
    "\n",
    "from tensorflow.keras import layers, Model\n",
    "from tensorflow import keras\n",
    "\n",
    "import os\n",
    "import cv2\n",
    "import glob\n",
    "import matplotlib.pyplot as plt\n"
   ]
  },
  {
   "cell_type": "code",
   "execution_count": null,
   "metadata": {},
   "outputs": [],
   "source": [
    "!pip install kaggle --upgrade\n",
    "!pip install pandas numpy rasterio glob2"
   ]
  },
  {
   "cell_type": "code",
   "execution_count": null,
   "metadata": {},
   "outputs": [],
   "source": [
    "from google.colab import files\n",
    "files.upload()"
   ]
  },
  {
   "cell_type": "code",
   "execution_count": null,
   "metadata": {},
   "outputs": [],
   "source": [
    "!mkdir -p ~/.kaggle\n",
    "!cp kaggle.json ~/.kaggle/\n",
    "!chmod 600 ~/.kaggle/kaggle.json\n",
    "!ls -1ha kaggle.json"
   ]
  },
  {
   "cell_type": "code",
   "execution_count": null,
   "metadata": {},
   "outputs": [],
   "source": [
    "!kaggle datasets download -d fpeccia/weed-detection-in-soybean-crops"
   ]
  },
  {
   "cell_type": "code",
   "execution_count": null,
   "metadata": {},
   "outputs": [],
   "source": [
    "!unzip -q /content/weed-detection-in-soybean-crops.zip"
   ]
  },
  {
   "cell_type": "code",
   "execution_count": null,
   "metadata": {},
   "outputs": [],
   "source": [
    "labels = [\"broadleaf\", \"grass\", \"soil\", \"soybean\"]"
   ]
  },
  {
   "cell_type": "code",
   "execution_count": null,
   "metadata": {},
   "outputs": [],
   "source": [
    "X = []\n",
    "Y = []\n",
    "imgSize = (227, 227)\n",
    "max_samples = 300\n",
    "for i in labels:\n",
    "  dataPath = \"/content/dataset/\" + i + \"/\"\n",
    "  fileRead = glob.glob(dataPath + \"*\")[:max_samples]\n",
    "  # print(fileRead)\n",
    "  print(len(fileRead))\n",
    "\n",
    "  for j in fileRead:\n",
    "    image = cv2.imread(j)\n",
    "    img = cv2.resize(image, imgSize)\n",
    "    X.append(img)\n",
    "    Y.append(i)\n",
    "\n"
   ]
  },
  {
   "cell_type": "code",
   "execution_count": null,
   "metadata": {},
   "outputs": [],
   "source": [
    "X = np.array(X)\n",
    "Y = np.array(Y)\n",
    "  "
   ]
  },
  {
   "cell_type": "code",
   "execution_count": null,
   "metadata": {},
   "outputs": [],
   "source": [
    "X.shape, Y.shape"
   ]
  },
  {
   "cell_type": "code",
   "execution_count": null,
   "metadata": {},
   "outputs": [],
   "source": [
    "plt.imshow(X[0])"
   ]
  },
  {
   "cell_type": "code",
   "execution_count": null,
   "metadata": {},
   "outputs": [],
   "source": [
    "oneHotY = []\n",
    "for i in Y:\n",
    "  oneHotY.append(labels.index(i))\n",
    "Y = to_categorical(oneHotY)"
   ]
  },
  {
   "cell_type": "code",
   "execution_count": null,
   "metadata": {},
   "outputs": [],
   "source": [
    "print(Y[0])\n",
    "print(Y[1])\n",
    "print(Y[2])\n",
    "print(Y.shape)"
   ]
  },
  {
   "cell_type": "code",
   "execution_count": null,
   "metadata": {},
   "outputs": [],
   "source": [
    "X_train, X_test, Y_train, Y_test = train_test_split(X, Y, test_size=0.2, random_state=42, shuffle=True)"
   ]
  },
  {
   "cell_type": "code",
   "execution_count": null,
   "metadata": {},
   "outputs": [],
   "source": [
    "X_train.shape, Y_train.shape, X_test.shape, Y_test.shape"
   ]
  },
  {
   "cell_type": "code",
   "execution_count": null,
   "metadata": {},
   "outputs": [],
   "source": [
    "#Model (AlexNet, Functional API)\n",
    "\n",
    "inputs = layers.Input(shape = (227, 227, 3))\n",
    "\n",
    "x = layers.Conv2D(filters=96, kernel_size=(11, 11), strides=(4, 4), activation='relu')(inputs)\n",
    "x = layers.BatchNormalization()(x)\n",
    "x = layers.MaxPooling2D(pool_size=(3, 3), strides=(2, 2))(x)\n",
    "\n",
    "    # Convolutional Layer 2\n",
    "x = layers.Conv2D(filters=256, kernel_size=(5, 5), strides=(1, 1), activation='relu', padding=\"same\")(x)\n",
    "x = layers.BatchNormalization()(x)\n",
    "x = layers.MaxPooling2D(pool_size=(3, 3), strides=(2, 2))(x)\n",
    "\n",
    "    # Convolutional Layer 3\n",
    "x = layers.Conv2D(filters=384, kernel_size=(3, 3), strides=(1, 1), activation='relu', padding=\"same\")(x)\n",
    "x = layers.BatchNormalization()(x)\n",
    "\n",
    "    # Convolutional Layer 4\n",
    "x = layers.Conv2D(filters=384, kernel_size=(3, 3), strides=(1, 1), activation='relu', padding=\"same\")(x)\n",
    "x = layers.BatchNormalization()(x)\n",
    "\n",
    "    # Convolutional Layer 5\n",
    "x = layers.Conv2D(filters=256, kernel_size=(3, 3), strides=(1, 1), activation='relu', padding=\"same\")(x)\n",
    "x = layers.BatchNormalization()(x)\n",
    "x = layers.MaxPooling2D(pool_size=(3, 3), strides=(2, 2))(x)\n",
    "\n",
    "    # Flatten and dense layers\n",
    "x = layers.Flatten()(x)\n",
    "x = layers.Dense(4096, activation='relu')(x)\n",
    "x = layers.Dropout(0.5)(x)\n",
    "x = layers.Dense(4096, activation='relu')(x)\n",
    "x = layers.Dropout(0.5)(x)\n",
    "outputs = layers.Dense(4, activation='softmax')(x)\n",
    "\n",
    "model = keras.Model(inputs=inputs, outputs= outputs)\n",
    "model.summary()\n"
   ]
  },
  {
   "cell_type": "code",
   "execution_count": null,
   "metadata": {},
   "outputs": [],
   "source": [
    "optimizer = keras.optimizers.legacy.SGD(learning_rate=0.01, momentum=0.9, decay=0.0005, nesterov=False)\n",
    "loss_fn = 'categorical_crossentropy'\n",
    "reduce_lr = keras.callbacks.ReduceLROnPlateau(monitor='val_loss', factor=0.1,\n",
    "                              patience=4, min_lr=0.0001)"
   ]
  },
  {
   "cell_type": "code",
   "execution_count": null,
   "metadata": {},
   "outputs": [],
   "source": [
    "model.compile(optimizer=optimizer,\n",
    "              loss=loss_fn,\n",
    "              metrics=['accuracy'])"
   ]
  },
  {
   "cell_type": "code",
   "execution_count": null,
   "metadata": {},
   "outputs": [],
   "source": [
    "# train_history = model.fit(X_train, Y_train, validation_data=(X_test, Y_test), epochs=10, batch_size=32)\n",
    "import math\n",
    "num_epochs = 100\n",
    "batch_size = 32\n",
    "\n",
    "train_steps_per_epoch = X_train.shape[0]// batch_size\n",
    "val_steps_per_epoch = X_test.shape[0]// batch_size\n",
    "\n",
    "hist = model.fit(X_train, Y_train,\n",
    "                 epochs=num_epochs,\n",
    "                 batch_size=batch_size,\n",
    "                 verbose=1,\n",
    "                 callbacks=[reduce_lr],\n",
    "                 validation_data=(X_test, Y_test))"
   ]
  },
  {
   "cell_type": "code",
   "execution_count": null,
   "metadata": {},
   "outputs": [],
   "source": [
    "acc = hist.history[\"accuracy\"]\n",
    "val_acc = hist.history[\"val_accuracy\"]\n",
    "\n",
    "loss = hist.history[\"loss\"]\n",
    "val_loss = hist.history[\"val_loss\"]\n",
    "\n",
    "acc = np.array(acc).T\n",
    "epochs = [i for i in range(1, 101)]\n",
    "plt.plot(epochs, acc, \"-r.\", label=\"Train acc\")\n",
    "plt.plot(epochs, val_acc, \"-g\", label=\"Val acc\")\n",
    "plt.title(\"Train & val acc.\")\n",
    "plt.legend()\n",
    "plt.figure()\n",
    "\n",
    "plt.plot(epochs, loss, \"-r.\", label=\"Train loss\")\n",
    "plt.plot(epochs, val_loss, \"-g\", label=\"Val loss\")\n",
    "plt.title(\"Train & val loss\")\n",
    "plt.legend()\n",
    "plt.show()"
   ]
  }
 ],
 "metadata": {
  "language_info": {
   "name": "python"
  },
  "orig_nbformat": 4
 },
 "nbformat": 4,
 "nbformat_minor": 2
}
